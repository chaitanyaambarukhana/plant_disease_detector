import tensorflow as tf
from tensorflow import keras
import numpy as np 
import matplotlib.pyplot as plt
from keras import layers






dataset = keras.preprocessing.image_dataset_from_directory(directory="PlantVillage", shuffle=True, seed=42,image_size=(256,256),batch_size=32)


class_name = dataset.class_names


for image,label in dataset.take(1):
    print(image.shape)
    print(label.numpy())


plt.figure(figsize=(15,15))
for image,label in dataset.take(1):
    for i in range(12):
        ax = plt.subplot(4,4,i+1)
        plt.imshow(image[i].numpy().astype('uint8'))
        plt.title(class_name[label[i]])
        

        


def train_test_split(dataset, train_split=0.8,test_split=0.1,val_split=0.1,shuffle=True,shuffle_size=10000):
    assert (train_split + test_split + val_split) == 1
    
    if shuffle:
        dataset = dataset.shuffle(shuffle_size,seed=123)
    
    dataset_size = len(dataset)
    
    train_size = int(train_split * dataset_size)
    val_size = int(val_split * dataset_size)
    
    train_dataset = dataset.take(train_size)
    val_dataset = dataset.skip(train_size).take(val_size)
    test_dataset = dataset.skip(train_size).skip(val_size)
    
    return train_dataset,val_dataset,test_dataset
    
    


train_ds,validation_ds,test_ds = train_test_split(dataset=dataset)


for image,label in train_ds.take(1):
    print(image.shape)
    print(label.numpy())


len(train_ds),len(validation_ds),len(test_ds),len(dataset)


train_ds = train_ds.cache().shuffle(1000).prefetch(buffer_size=tf.data.AUTOTUNE)
test_ds = test_ds.cache().shuffle(1000).prefetch(buffer_size=tf.data.AUTOTUNE)
validation_ds = validation_ds.cache().shuffle(1000).prefetch(buffer_size = tf.data.AUTOTUNE)



preprocessing = keras.Sequential([
    keras.layers.experimental.preprocessing.Resizing(100,100),
    keras.layers.experimental.preprocessing.Rescaling(1./255)
])


augment = keras.Sequential([
    keras.layers.experimental.preprocessing.RandomFlip("horizontal_and_vertical"),
    keras.layers.experimental.preprocessing.RandomRotation(0.3),
    
])


# train_ds = train_ds.map(
#     lambda x, y: (augment(x, training=True), y)
# ).prefetch(buffer_size=tf.data.AUTOTUNE)


input_shape = (32,100,100,3)

model = keras.Sequential([
    preprocessing,
    keras.layers.InputLayer(input_shape=input_shape), #(batch_size, image_size,image_size,channels)
    keras.layers.Conv2D(128,kernel_size=(3,3),activation='relu'),
    keras.layers.MaxPooling2D((2,2)),
    keras.layers.Conv2D(128, kernel_size=(3,3), activation="relu"),
    keras.layers.MaxPooling2D((2,2)),
    keras.layers.Conv2D(128,kernel_size=(3,3), activation="relu"),
    keras.layers.MaxPooling2D((2,2)),
    keras.layers.Conv2D(128,kernel_size=(3,3),activation="relu"),
    keras.layers.MaxPooling2D((2,2)),
    keras.layers.Conv2D(128, activation="relu", kernel_size=(3,3)),
    keras.layers.MaxPool2D((2,2)),
    keras.layers.Flatten(),
    keras.layers.Dense(256, activation="relu"),
    keras.layers.Dense(256, activation="relu"),
    keras.layers.Dense(128,activation="relu"),
    keras.layers.Dense(64,activation="relu"),
    keras.layers.Dense(10,activation="softmax")
    
])
model.build(input_shape=input_shape)





model.compile(
    optimizer=keras.optimizers.Adam(),
    loss=tf.keras.losses.SparseCategoricalCrossentropy(from_logits=False),
    metrics=['accuracy']
)


history = model.fit(
    train_ds,
    batch_size=32,
    validation_data=validation_ds,
    verbose=1,
    epochs=50,
)


model.evaluate(test_ds)


def predict(model, img):
    img_array = keras.preprocessing.image.img_to_array(img)
    img_array = tf.expand_dims(img_array,0)
    
    prediction = model.predict(img_array)
    
    confidence = round(100*np.max(prediction[0]),2)
    prediction_class = class_name[np.argmax(prediction[0])]
    
    return confidence, prediction_class


plt.figure(figsize=(20,20))
for images, labels in test_ds.take(1):
    for i in range(12):
        axis = plt.subplot(3,4,i+1)
        confidence, prediction_class = predict(model,images[i].numpy())
        plt.imshow(images[i].numpy().astype('uint8'))
        plt.title(f'Actual_class: {class_name[labels[i]]} \n Predicted_class: {prediction_class} \n Confidence: {confidence}')
    


import os
model_version = max([int(i) for i in os.listdir("./models/")]) +1
model.save(f"./models/{model_version}")






